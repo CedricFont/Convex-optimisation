{
 "cells": [
  {
   "cell_type": "code",
   "execution_count": 79,
   "metadata": {},
   "outputs": [
    {
     "name": "stdout",
     "output_type": "stream",
     "text": [
      "Empirical probability of being inside the safe set after 10 iterations : 99.89399999999998 %\n",
      "Lower bound for x being within the safe set after 10 iterations is 86.38566295205757 %\n"
     ]
    }
   ],
   "source": [
    "# CVX 2021-2022 Project 5 \n",
    "\n",
    "# Import packages.\n",
    "# free SDP solver: https://github.com/TrishGillett/pysdpt3glue\n",
    "import cvxpy as cp\n",
    "import numpy as np\n",
    "from numpy.linalg import matrix_power\n",
    "from numpy import linalg as LA\n",
    "# make sure to use np.zeros() when you need something to initialize at 0. \n",
    "\n",
    "# The given data contains for E trajectories (different initial conditions) the vector x_{K+1}.\n",
    "# load that data \n",
    "data = np.loadtxt(\"datax.txt\")\n",
    "\n",
    "# Define the dynamics \n",
    "Adyn=np.array([[0.5, 0.8], [0, 0.5]])\n",
    "n = 2\n",
    "Q0=np.array([[1, 0], [0, 1]])\n",
    "Qw=np.array([[1, 0], [0, 1]])\n",
    "\n",
    "# Compute the first two moments ########################################################\n",
    "K = 10\n",
    "Ep_xk = np.zeros([2,1])\n",
    "Ep_xk_xkT = np.linalg.matrix_power(Adyn,K+1)@Q0@(np.linalg.matrix_power(Adyn,K+1)).T\n",
    "\n",
    "for k in range(K+1):\n",
    "    Ep_xk_xkT += np.linalg.matrix_power(Adyn,K-k)@Qw@np.linalg.matrix_power(Adyn,K-k).T\n",
    "\n",
    "# compute the empirical probability of being in the safe set ############################\n",
    "E = 1000\n",
    "r = 8\n",
    "nb_real = 100\n",
    "nb_safe = np.zeros([nb_real])\n",
    "\n",
    "for nb in range(nb_real):\n",
    "    for i in range(data.shape[1]):\n",
    "        xk = data[:,i,None]\n",
    "        for j in range(K):\n",
    "            x_k_plus_1 = Adyn@xk + np.multiply(np.random.randn(2,1),np.diag(Qw))\n",
    "            xk = x_k_plus_1\n",
    "        if np.linalg.norm(xk, ord=1) < 8: nb_safe[nb] += 1\n",
    "\n",
    "proba_safe = (nb_safe/data.shape[1]*100).sum()/nb_real\n",
    "print('Empirical probability of being inside the safe set after '+str(K)+' iterations : '+str(proba_safe)+' %')\n",
    "\n",
    "# Define and solve the SDP ###############################################################\n",
    "m = 4 # Safe set can be written as 4 linear constraints (inequalities)\n",
    "P = cp.Variable((n,n), symmetric=True)\n",
    "q = cp.Variable((n,1))\n",
    "r = cp.Variable((1,1))\n",
    "tau = cp.Variable((m,1))\n",
    "\n",
    "# Safe set rewritten as 4 linear constraints (1-norm)\n",
    "A0, A1, A2, A3 = np.zeros([2,2]), np.zeros([2,2]), np.zeros([2,2]), np.zeros([2,2])\n",
    "b0, b1, b2, b3 = .5*np.array([1,1]), .5*np.array([-1,-1]), .5*np.array([-1,1]), .5*np.array([1,-1])\n",
    "c0, c1, c2, c3 = -8, -8, -8, -8\n",
    "A = [A0,A1,A2,A3]\n",
    "B = [b0,b1,b2,b3]\n",
    "c = [c0,c1,c2,c3]\n",
    "\n",
    "objective = cp.Maximize(1 - cp.trace(Ep_xk_xkT@P) - 2*q.T@Ep_xk - r)\n",
    "\n",
    "constraints = []\n",
    "for i in range(m): # Loop over safe set constraints Ai, bi, ci\n",
    "    constraints.append(cp.bmat([[P - tau[i]*A[i] , q - tau[i]*B[i][:,None]],\n",
    "                                [(q - tau[i]*B[i][:,None]).T , r - 1 - tau[i]*c[i]]]) >> 0)\n",
    "    constraints.append( tau[i] >= 0 )\n",
    "    \n",
    "constraints.append(cp.bmat([[P,q],[q.T,r]]) >> 0)\n",
    "\n",
    "prob = cp.Problem(objective, constraints)\n",
    "prob.solve(solver=cp.MOSEK)\n",
    "\n",
    "print('Lower bound for x being within the safe set after '+str(K)+' iterations is '+str(100*prob.value)+' %')\n",
    "\n",
    "# Print the results (compare the SDP and the empirical values).\n"
   ]
  }
 ],
 "metadata": {
  "kernelspec": {
   "display_name": "Python 3",
   "language": "python",
   "name": "python3"
  },
  "language_info": {
   "codemirror_mode": {
    "name": "ipython",
    "version": 3
   },
   "file_extension": ".py",
   "mimetype": "text/x-python",
   "name": "python",
   "nbconvert_exporter": "python",
   "pygments_lexer": "ipython3",
   "version": "3.8.5"
  }
 },
 "nbformat": 4,
 "nbformat_minor": 4
}
