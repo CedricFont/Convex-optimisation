{
 "cells": [
  {
   "cell_type": "markdown",
   "metadata": {},
   "source": [
    "# Optimal flow problem\n",
    "## 1) Solve the SDP relaxation"
   ]
  },
  {
   "cell_type": "code",
   "execution_count": 20,
   "metadata": {},
   "outputs": [],
   "source": [
    "import numpy as np\n",
    "from matplotlib import image\n",
    "from matplotlib import pyplot\n",
    "from numpy import random as rnd\n",
    "import cvxpy as cp\n",
    "import matplotlib.pyplot as plt\n",
    "from mat4py import loadmat\n",
    "\n",
    "IEEE_9 = loadmat('Project4_Questions/IEEE9data.mat')"
   ]
  },
  {
   "cell_type": "code",
   "execution_count": 44,
   "metadata": {},
   "outputs": [
    {
     "data": {
      "text/plain": [
       "inf"
      ]
     },
     "execution_count": 44,
     "metadata": {},
     "output_type": "execute_result"
    }
   ],
   "source": [
    "# Number of buses\n",
    "N = 9\n",
    "\n",
    "# Load constants\n",
    "G = np.asarray(IEEE_9['data']['G'])\n",
    "B = np.asarray(IEEE_9['data']['B'])\n",
    "p_d = np.asarray(IEEE_9['data']['p']['d'])\n",
    "q_d = np.asarray(IEEE_9['data']['q']['d'])\n",
    "p_g_min = np.asarray(IEEE_9['data']['p']['min'])\n",
    "p_g_max = np.asarray(IEEE_9['data']['p']['max'])\n",
    "q_g_min = np.asarray(IEEE_9['data']['q']['min'])\n",
    "q_g_max = np.asarray(IEEE_9['data']['q']['max'])\n",
    "c = np.asarray(IEEE_9['data']['c'])\n",
    "v_min = np.asarray(IEEE_9['data']['v']['min'])\n",
    "v_max = np.asarray(IEEE_9['data']['v']['max'])\n",
    "\n",
    "# Variables\n",
    "p_g = cp.Variable((N,1))\n",
    "q_g = cp.Variable((N,1))\n",
    "E, F = cp.Variable((N,N),symmetric=True), cp.Variable((N,N),symmetric=True)\n",
    "H = cp.Variable((N,N))\n",
    "\n",
    "# Constraints\n",
    "constraints = []\n",
    "for i in range(N):\n",
    "    constraints.append(G[i,:,np.newaxis].T@(E[i,:,np.newaxis] + F[i,:,np.newaxis]) -\n",
    "                       B[i,:,np.newaxis].T@(H[i,:,np.newaxis] - H[:,i,np.newaxis].T) == p_g - p_d)\n",
    "    constraints.append(-B[i,:,np.newaxis].T@(E[i,:,np.newaxis] + F[i,:,np.newaxis]) -\n",
    "                       G[i,:,np.newaxis].T@(H[i,:,np.newaxis] - H[:,i,np.newaxis].T) == q_g - q_d)\n",
    "constraints.extend([p_g_min <= p_g , p_g <= p_g_max])\n",
    "constraints.extend([q_g_min <= q_g , q_g <= q_g_max])\n",
    "constraints.extend([cp.square(v_min) <= cp.diag(E + F)[:,np.newaxis] ,\n",
    "                    cp.square(v_max) >= cp.diag(E + F)[:,np.newaxis]])\n",
    "constraints.append(cp.bmat([[E,H],[H.T,F]]) >= 0)\n",
    "\n",
    "# Loss\n",
    "objective = cp.Minimize(c.T@p_g)\n",
    "\n",
    "prob = cp.Problem(objective, constraints)\n",
    "prob.solve(solver=cp.MOSEK)"
   ]
  }
 ],
 "metadata": {
  "kernelspec": {
   "display_name": "Python 3",
   "language": "python",
   "name": "python3"
  },
  "language_info": {
   "codemirror_mode": {
    "name": "ipython",
    "version": 3
   },
   "file_extension": ".py",
   "mimetype": "text/x-python",
   "name": "python",
   "nbconvert_exporter": "python",
   "pygments_lexer": "ipython3",
   "version": "3.8.5"
  }
 },
 "nbformat": 4,
 "nbformat_minor": 4
}
